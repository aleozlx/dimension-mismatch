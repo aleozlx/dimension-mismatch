{
 "cells": [
  {
   "cell_type": "code",
   "execution_count": 1,
   "metadata": {
    "collapsed": false
   },
   "outputs": [
    {
     "name": "stdout",
     "output_type": "stream",
     "text": [
      "[[ 0.01129525  0.17955466  0.14911626  0.53245047]\n",
      " [ 0.17955466  0.39175899  0.1026354   0.12613663]\n",
      " [ 0.14911626  0.1026354   0.62446565  0.80088057]\n",
      " [ 0.53245047  0.12613663  0.80088057  0.01250251]]\n",
      "[-0.73281098  0.01694186  0.38983396  1.36605757]\n"
     ]
    }
   ],
   "source": [
    "import numpy as np\n",
    "\n",
    "A = np.random.random((4,4))\n",
    "A = A.T*A # make it symmetric for real eigen_values\n",
    "print A\n",
    "eigen_values, _ = np.linalg.eig(A)\n",
    "eigen_values = np.sort(eigen_values)\n",
    "print eigen_values"
   ]
  },
  {
   "cell_type": "code",
   "execution_count": 2,
   "metadata": {
    "collapsed": false
   },
   "outputs": [
    {
     "name": "stdout",
     "output_type": "stream",
     "text": [
      "[ 0.747  0.157 -0.114 -0.791]\n",
      "[ 0.562 -0.    -0.252 -0.31 ]\n",
      "[ 0.216 -0.    -0.117 -0.099]\n",
      "[ 0.067 -0.    -0.038 -0.03 ]\n",
      "[ 0.02   0.    -0.011 -0.009]\n",
      "[ 0.006  0.    -0.003 -0.002]\n",
      "[ 0.002  0.    -0.001 -0.001]\n",
      "[ 0.  0. -0. -0.]\n"
     ]
    }
   ],
   "source": [
    "def qr_one(A):\n",
    "    Q, R = np.linalg.qr(A)\n",
    "    return np.dot(R, Q)\n",
    "\n",
    "def qr_iterations(A):\n",
    "    B = A.copy(); e = np.ones(eigen_values.shape)\n",
    "    while np.linalg.norm(e):\n",
    "        B = qr_one(B)\n",
    "        e = np.around(np.sort(np.diagonal(B))-eigen_values, 3)\n",
    "        print e\n",
    "        \n",
    "qr_iterations(A)"
   ]
  },
  {
   "cell_type": "code",
   "execution_count": 3,
   "metadata": {
    "collapsed": false
   },
   "outputs": [
    {
     "name": "stdout",
     "output_type": "stream",
     "text": [
      "[[ 5.  2.  0.]\n",
      " [ 2.  5.  0.]\n",
      " [ 4. -1.  4.]]\n",
      "[[ 5.  2.  0.]\n",
      " [ 2.  5.  0.]\n",
      " [ 4. -1.  4.]]\n"
     ]
    }
   ],
   "source": [
    "def unique_eig_decomposition():\n",
    "    X = np.array([[1,1,1],[0,0,1],[-1,1,5]]).T # eigenvectors\n",
    "    L = np.diag([7,4,3]) # eigenvalues\n",
    "    print np.dot(np.dot(X,L),np.linalg.inv(X))\n",
    "    \n",
    "    # switch first 2 columns\n",
    "    E = np.array([\n",
    "        [0, 1, 0],\n",
    "        [1, 0, 0],\n",
    "        [0, 0, 1]])\n",
    "    X = np.dot(X, E)\n",
    "    L = np.diag([4,7,3])\n",
    "    B = np.dot(np.dot(X,L),np.linalg.inv(X))\n",
    "    print B\n",
    "    \n",
    "    # A = X L X^(-1) is unique decomposition\n",
    "    # eigen values & vectors tell everything about A\n",
    "    \n",
    "unique_eig_decomposition()"
   ]
  },
  {
   "cell_type": "code",
   "execution_count": 5,
   "metadata": {
    "collapsed": false
   },
   "outputs": [
    {
     "name": "stdout",
     "output_type": "stream",
     "text": [
      "[1.0, 1.0, 2.0, 3.0, 5.0, 8.0, 13.0, 21.0, 34.0, 55.0]\n",
      "[1.0, 4.5397376607296954e+41, 2.8481238723127974e+83, 1.7868454519317291e+125, 1.1210245102494092e+167, 7.0330422321714219e+208, 4.4123640997378306e+250, 2.7682127173355929e+292]\n"
     ]
    }
   ],
   "source": [
    "def fibonacci_eig():\n",
    "    Q = np.array([[1,1],[1,0]])\n",
    "    evals, X = np.linalg.eig(Q)\n",
    "    # print np.dot(np.dot(X,np.diag(evals)),np.linalg.inv(X))\n",
    "    return evals\n",
    "    \n",
    "def fibonacci2(n):\n",
    "    return np.round(np.linalg.matrix_power(np.array([[1,1],[1,0]], dtype='float64'),n)[0,0],1)\n",
    "\n",
    "def fibonacci1(n):\n",
    "    if n<2: return 1.\n",
    "    L, X = np.linalg.eig(np.array([[1,1],[1,0]]))\n",
    "    Y = np.dot(X, np.diag(L**n))\n",
    "    Y = np.dot(Y, X.T)\n",
    "    return np.round(Y[0,0],1)\n",
    "    \n",
    "# print fibonacci_eig()\n",
    "    \n",
    "def fibonacci(n):\n",
    "    A = np.array([[ 0.85065081, -0.52573111],\n",
    "                  [ 0.52573111,  0.85065081]])\n",
    "    L = np.array([ 1.61803399, -0.61803399])\n",
    "    return np.round(np.dot(np.dot(A, np.diag(L**n)), A.T)[0,0],1)\n",
    "\n",
    "print [fibonacci(i) for i in xrange(10)]\n",
    "print [fibonacci(i) for i in xrange(0,1600,200)]\n",
    "\n",
    "# Also ref \"generating matrix for a recurrence relation\"\n",
    "# http://math.stackexchange.com/questions/124178/generating-matrix-for-a-recurrence-relation"
   ]
  },
  {
   "cell_type": "code",
   "execution_count": null,
   "metadata": {
    "collapsed": true
   },
   "outputs": [],
   "source": []
  }
 ],
 "metadata": {
  "kernelspec": {
   "display_name": "Python 2",
   "language": "python",
   "name": "python2"
  },
  "language_info": {
   "codemirror_mode": {
    "name": "ipython",
    "version": 2
   },
   "file_extension": ".py",
   "mimetype": "text/x-python",
   "name": "python",
   "nbconvert_exporter": "python",
   "pygments_lexer": "ipython2",
   "version": "2.7.13"
  }
 },
 "nbformat": 4,
 "nbformat_minor": 2
}
